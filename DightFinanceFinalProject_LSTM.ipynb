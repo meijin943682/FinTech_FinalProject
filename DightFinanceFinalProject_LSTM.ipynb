{
 "cells": [
  {
   "cell_type": "code",
   "execution_count": 1,
   "metadata": {},
   "outputs": [
    {
     "name": "stderr",
     "output_type": "stream",
     "text": [
      "Using TensorFlow backend.\n"
     ]
    }
   ],
   "source": [
    "import numpy as np # linear algebra\n",
    "import pandas as pd # data processing, CSV file I/O (e.g. pd.read_csv)\n",
    "\n",
    "from subprocess import check_output\n",
    "from keras.layers.core import Dense, Activation, Dropout\n",
    "from keras.layers.recurrent import LSTM\n",
    "from keras.models import Sequential\n",
    "import time #helper libraries\n",
    "from sklearn import preprocessing\n",
    "import matplotlib.pyplot as plt\n",
    "from numpy import newaxis\n",
    "from datetime import datetime"
   ]
  },
  {
   "cell_type": "code",
   "execution_count": 2,
   "metadata": {},
   "outputs": [],
   "source": [
    "input_data = pd.read_csv(\"2330.csv\")"
   ]
  },
  {
   "cell_type": "code",
   "execution_count": 3,
   "metadata": {},
   "outputs": [
    {
     "data": {
      "text/html": [
       "<div>\n",
       "<style scoped>\n",
       "    .dataframe tbody tr th:only-of-type {\n",
       "        vertical-align: middle;\n",
       "    }\n",
       "\n",
       "    .dataframe tbody tr th {\n",
       "        vertical-align: top;\n",
       "    }\n",
       "\n",
       "    .dataframe thead th {\n",
       "        text-align: right;\n",
       "    }\n",
       "</style>\n",
       "<table border=\"1\" class=\"dataframe\">\n",
       "  <thead>\n",
       "    <tr style=\"text-align: right;\">\n",
       "      <th></th>\n",
       "      <th>證券代碼</th>\n",
       "      <th>年月日</th>\n",
       "      <th>開盤價(元)</th>\n",
       "      <th>最高價(元)</th>\n",
       "      <th>最低價(元)</th>\n",
       "      <th>收盤價(元)</th>\n",
       "      <th>成交量(千股)</th>\n",
       "      <th>外資買賣超(千股)</th>\n",
       "      <th>投信買賣超(千股)</th>\n",
       "      <th>自營買賣超(千股)</th>\n",
       "      <th>外資總投資股率%</th>\n",
       "      <th>投信持股率%</th>\n",
       "      <th>自營持股率%</th>\n",
       "    </tr>\n",
       "  </thead>\n",
       "  <tbody>\n",
       "    <tr>\n",
       "      <th>0</th>\n",
       "      <td>2330 台積電</td>\n",
       "      <td>1/2/2008</td>\n",
       "      <td>39.58</td>\n",
       "      <td>39.58</td>\n",
       "      <td>38.43</td>\n",
       "      <td>38.62</td>\n",
       "      <td>38,970</td>\n",
       "      <td>394</td>\n",
       "      <td>-8,824</td>\n",
       "      <td>-365</td>\n",
       "      <td>71.79</td>\n",
       "      <td>0.53</td>\n",
       "      <td>0.02</td>\n",
       "    </tr>\n",
       "    <tr>\n",
       "      <th>1</th>\n",
       "      <td>2330 台積電</td>\n",
       "      <td>1/3/2008</td>\n",
       "      <td>38.24</td>\n",
       "      <td>38.30</td>\n",
       "      <td>37.92</td>\n",
       "      <td>37.92</td>\n",
       "      <td>34,838</td>\n",
       "      <td>-9,307</td>\n",
       "      <td>-804</td>\n",
       "      <td>482</td>\n",
       "      <td>71.76</td>\n",
       "      <td>0.52</td>\n",
       "      <td>0.02</td>\n",
       "    </tr>\n",
       "    <tr>\n",
       "      <th>2</th>\n",
       "      <td>2330 台積電</td>\n",
       "      <td>1/4/2008</td>\n",
       "      <td>37.86</td>\n",
       "      <td>38.56</td>\n",
       "      <td>37.34</td>\n",
       "      <td>38.30</td>\n",
       "      <td>48,400</td>\n",
       "      <td>-6,802</td>\n",
       "      <td>-1,357</td>\n",
       "      <td>711</td>\n",
       "      <td>71.73</td>\n",
       "      <td>0.52</td>\n",
       "      <td>0.02</td>\n",
       "    </tr>\n",
       "    <tr>\n",
       "      <th>3</th>\n",
       "      <td>2330 台積電</td>\n",
       "      <td>1/7/2008</td>\n",
       "      <td>36.39</td>\n",
       "      <td>37.03</td>\n",
       "      <td>35.62</td>\n",
       "      <td>35.62</td>\n",
       "      <td>103,229</td>\n",
       "      <td>-65,640</td>\n",
       "      <td>-5,021</td>\n",
       "      <td>-1,424</td>\n",
       "      <td>71.48</td>\n",
       "      <td>0.50</td>\n",
       "      <td>0.02</td>\n",
       "    </tr>\n",
       "    <tr>\n",
       "      <th>4</th>\n",
       "      <td>2330 台積電</td>\n",
       "      <td>1/8/2008</td>\n",
       "      <td>35.62</td>\n",
       "      <td>36.13</td>\n",
       "      <td>35.43</td>\n",
       "      <td>35.75</td>\n",
       "      <td>47,333</td>\n",
       "      <td>-13,831</td>\n",
       "      <td>77</td>\n",
       "      <td>-1,248</td>\n",
       "      <td>71.43</td>\n",
       "      <td>0.50</td>\n",
       "      <td>0.01</td>\n",
       "    </tr>\n",
       "  </tbody>\n",
       "</table>\n",
       "</div>"
      ],
      "text/plain": [
       "       證券代碼       年月日  開盤價(元)  最高價(元)  最低價(元)  收盤價(元)  成交量(千股) 外資買賣超(千股)  \\\n",
       "0  2330 台積電  1/2/2008   39.58   39.58   38.43   38.62   38,970       394   \n",
       "1  2330 台積電  1/3/2008   38.24   38.30   37.92   37.92   34,838    -9,307   \n",
       "2  2330 台積電  1/4/2008   37.86   38.56   37.34   38.30   48,400    -6,802   \n",
       "3  2330 台積電  1/7/2008   36.39   37.03   35.62   35.62  103,229   -65,640   \n",
       "4  2330 台積電  1/8/2008   35.62   36.13   35.43   35.75   47,333   -13,831   \n",
       "\n",
       "  投信買賣超(千股) 自營買賣超(千股)  外資總投資股率%  投信持股率%  自營持股率%  \n",
       "0    -8,824      -365     71.79    0.53    0.02  \n",
       "1      -804       482     71.76    0.52    0.02  \n",
       "2    -1,357       711     71.73    0.52    0.02  \n",
       "3    -5,021    -1,424     71.48    0.50    0.02  \n",
       "4        77    -1,248     71.43    0.50    0.01  "
      ]
     },
     "execution_count": 3,
     "metadata": {},
     "output_type": "execute_result"
    }
   ],
   "source": [
    "input_data.head()"
   ]
  },
  {
   "cell_type": "code",
   "execution_count": 4,
   "metadata": {},
   "outputs": [],
   "source": [
    "def transform(x):\n",
    "    try:\n",
    "        return x.replace(\",\", \"\")\n",
    "    except:\n",
    "        return x\n",
    "\n",
    "input_data.iloc[:, 2:] = input_data.iloc[:, 2:].applymap(lambda x: float(transform(x)))"
   ]
  },
  {
   "cell_type": "code",
   "execution_count": 5,
   "metadata": {},
   "outputs": [],
   "source": [
    "input_data = input_data.iloc[:, 2:]"
   ]
  },
  {
   "cell_type": "code",
   "execution_count": 6,
   "metadata": {},
   "outputs": [],
   "source": [
    "columns = ['open', 'high', 'low', 'close', 'volume',\n",
    "           'foreign', 'trust', 'dealer',\n",
    "           'foreign_ratio', 'trust_ratio', 'dealer_ratio']\n",
    "\n",
    "input_data.columns = columns"
   ]
  },
  {
   "cell_type": "code",
   "execution_count": 9,
   "metadata": {},
   "outputs": [
    {
     "data": {
      "text/plain": [
       "Index(['open', 'high', 'low', 'volume', 'foreign', 'trust', 'dealer', 'close'], dtype='object')"
      ]
     },
     "execution_count": 9,
     "metadata": {},
     "output_type": "execute_result"
    }
   ],
   "source": [
    "# normalize data and drop\n",
    "min_max_scaler = preprocessing.MinMaxScaler()\n",
    "input_data['open'] = min_max_scaler.fit_transform(input_data.open.values.reshape(-1,1))\n",
    "input_data['high'] = min_max_scaler.fit_transform(input_data.high.values.reshape(-1,1))\n",
    "input_data['low'] = min_max_scaler.fit_transform(input_data.low.values.reshape(-1,1))\n",
    "input_data['close'] = min_max_scaler.fit_transform(input_data.close.values.reshape(-1,1))\n",
    "input_data['volume'] = min_max_scaler.fit_transform(input_data.volume.values.reshape(-1,1))\n",
    "input_data['foreign'] = min_max_scaler.fit_transform(input_data.volume.values.reshape(-1,1))\n",
    "input_data['trust'] = min_max_scaler.fit_transform(input_data.volume.values.reshape(-1,1))\n",
    "input_data['dealer'] = min_max_scaler.fit_transform(input_data.volume.values.reshape(-1,1))\n",
    "\n",
    "input_data = input_data.reindex(columns = ['open', 'high', 'low', 'volume',\n",
    "           'foreign', 'trust', 'dealer',\n",
    "           'foreign_ratio', 'trust_ratio', 'dealer_ratio', 'close'])\n",
    "#input_data.drop(['foreign'],1,inplace=True)\n",
    "#input_data.drop(['trust'],1,inplace=True)\n",
    "#input_data.drop(['dealer'],1,inplace=True)\n",
    "input_data.drop(['foreign_ratio'],1,inplace=True)\n",
    "input_data.drop(['trust_ratio'],1,inplace=True)\n",
    "input_data.drop(['dealer_ratio'],1,inplace=True)\n",
    "\n",
    "input_data.columns"
   ]
  },
  {
   "cell_type": "code",
   "execution_count": 10,
   "metadata": {},
   "outputs": [],
   "source": [
    "#定義函數看要落後幾期\n",
    "def load_data(stock, seq_len):\n",
    "    amount_of_features = len(stock.columns) # get column amount\n",
    "    data = stock.as_matrix() \n",
    "    sequence_length = seq_len + 1 # index starting from 0\n",
    "    result = []\n",
    "    \n",
    "    for index in range(len(data) - sequence_length): # maxmimum date = lastest date - sequence length\n",
    "        result.append(data[index: index + sequence_length]) # index : index + 19days\n",
    "    \n",
    "    result = np.array(result)\n",
    "    row = round(0.9 * result.shape[0]) # 90% split\n",
    "    train = result[:int(row), :] # 前 90% date, all features \n",
    "    \n",
    "    x_train = train[:, :-1]\n",
    "    y_train = train[:, -1][:,-1]\n",
    " \n",
    "    x_test = result[int(row):, :-1] \n",
    "    y_test = result[int(row):, -1][:,-1]\n",
    "\n",
    "    x_train = np.reshape(x_train, (x_train.shape[0], x_train.shape[1], amount_of_features))\n",
    "    x_test = np.reshape(x_test, (x_test.shape[0], x_test.shape[1], amount_of_features))  \n",
    "\n",
    "    return [x_train, y_train, x_test, y_test]"
   ]
  },
  {
   "cell_type": "markdown",
   "metadata": {},
   "source": [
    "## Predict stock close price"
   ]
  },
  {
   "cell_type": "code",
   "execution_count": 11,
   "metadata": {},
   "outputs": [
    {
     "name": "stderr",
     "output_type": "stream",
     "text": [
      "e:\\program\\anaconda\\envs\\tensorflow\\lib\\site-packages\\ipykernel_launcher.py:4: FutureWarning: Method .as_matrix will be removed in a future version. Use .values instead.\n",
      "  after removing the cwd from sys.path.\n"
     ]
    }
   ],
   "source": [
    "window = 20\n",
    "x_train, y_train, x_test, y_test = load_data(input_data, window)"
   ]
  },
  {
   "cell_type": "code",
   "execution_count": 12,
   "metadata": {},
   "outputs": [],
   "source": [
    "def build_model(layers):\n",
    "    d = 0.3 #dropout = 0.3\n",
    "    model = Sequential()\n",
    "    \n",
    "    model.add(LSTM(256, input_shape=(layers[1], layers[0]), return_sequences=True))\n",
    "    model.add(Dropout(d))\n",
    "        \n",
    "    model.add(LSTM(256, input_shape=(layers[1], layers[0]), return_sequences=False))\n",
    "    model.add(Dropout(d))\n",
    "        \n",
    "    model.add(Dense(32,kernel_initializer=\"uniform\",activation='relu'))        \n",
    "    model.add(Dense(1,kernel_initializer=\"uniform\",activation='linear'))\n",
    "    \n",
    "    # adam = keras.optimizers.Adam(decay=0.2)\n",
    "        \n",
    "    start = time.time()\n",
    "    model.compile(loss='mse',optimizer='adam', metrics=['accuracy'])\n",
    "    print(\"Compilation Time : \", time.time() - start)\n",
    "    return model"
   ]
  },
  {
   "cell_type": "code",
   "execution_count": 15,
   "metadata": {},
   "outputs": [
    {
     "name": "stdout",
     "output_type": "stream",
     "text": [
      "Compilation Time :  0.031983137130737305\n"
     ]
    }
   ],
   "source": [
    "model = build_model([8,window,1])"
   ]
  },
  {
   "cell_type": "code",
   "execution_count": 16,
   "metadata": {},
   "outputs": [
    {
     "name": "stdout",
     "output_type": "stream",
     "text": [
      "Train on 2173 samples, validate on 242 samples\n",
      "Epoch 1/90\n",
      "2173/2173 [==============================] - 12s 5ms/step - loss: 0.0656 - acc: 4.6019e-04 - val_loss: 0.2307 - val_acc: 0.0000e+00\n",
      "Epoch 2/90\n",
      "2173/2173 [==============================] - 10s 4ms/step - loss: 0.0209 - acc: 4.6019e-04 - val_loss: 0.1183 - val_acc: 0.0000e+00\n",
      "Epoch 3/90\n",
      "2173/2173 [==============================] - 9s 4ms/step - loss: 0.0118 - acc: 4.6019e-04 - val_loss: 0.1004 - val_acc: 0.0000e+00\n",
      "Epoch 4/90\n",
      "2173/2173 [==============================] - 10s 4ms/step - loss: 0.0046 - acc: 4.6019e-04 - val_loss: 0.0303 - val_acc: 0.0000e+00\n",
      "Epoch 5/90\n",
      "2173/2173 [==============================] - 9s 4ms/step - loss: 0.0026 - acc: 4.6019e-04 - val_loss: 0.0587 - val_acc: 0.0000e+00\n",
      "Epoch 6/90\n",
      "2173/2173 [==============================] - 9s 4ms/step - loss: 0.0025 - acc: 4.6019e-04 - val_loss: 0.0126 - val_acc: 0.0000e+00\n",
      "Epoch 7/90\n",
      "2173/2173 [==============================] - 9s 4ms/step - loss: 0.0022 - acc: 4.6019e-04 - val_loss: 0.0352 - val_acc: 0.0000e+00\n",
      "Epoch 8/90\n",
      "2173/2173 [==============================] - 9s 4ms/step - loss: 0.0015 - acc: 4.6019e-04 - val_loss: 0.0150 - val_acc: 0.0000e+00\n",
      "Epoch 9/90\n",
      "2173/2173 [==============================] - 9s 4ms/step - loss: 9.8576e-04 - acc: 4.6019e-04 - val_loss: 0.0226 - val_acc: 0.0000e+00\n",
      "Epoch 10/90\n",
      "2173/2173 [==============================] - 9s 4ms/step - loss: 7.9364e-04 - acc: 4.6019e-04 - val_loss: 0.0107 - val_acc: 0.0000e+00\n",
      "Epoch 11/90\n",
      "2173/2173 [==============================] - 9s 4ms/step - loss: 6.1447e-04 - acc: 4.6019e-04 - val_loss: 0.0106 - val_acc: 0.0000e+00\n",
      "Epoch 12/90\n",
      "2173/2173 [==============================] - 9s 4ms/step - loss: 4.8767e-04 - acc: 4.6019e-04 - val_loss: 0.0043 - val_acc: 0.0000e+00\n",
      "Epoch 13/90\n",
      "2173/2173 [==============================] - 9s 4ms/step - loss: 4.3067e-04 - acc: 4.6019e-04 - val_loss: 0.0047 - val_acc: 0.0000e+00\n",
      "Epoch 14/90\n",
      "2173/2173 [==============================] - 9s 4ms/step - loss: 4.3491e-04 - acc: 4.6019e-04 - val_loss: 0.0034 - val_acc: 0.0000e+00\n",
      "Epoch 15/90\n",
      "2173/2173 [==============================] - 9s 4ms/step - loss: 3.9657e-04 - acc: 4.6019e-04 - val_loss: 0.0039 - val_acc: 0.0000e+00\n",
      "Epoch 16/90\n",
      "2173/2173 [==============================] - 9s 4ms/step - loss: 3.6928e-04 - acc: 4.6019e-04 - val_loss: 0.0026 - val_acc: 0.0000e+00\n",
      "Epoch 17/90\n",
      "2173/2173 [==============================] - 9s 4ms/step - loss: 3.6640e-04 - acc: 4.6019e-04 - val_loss: 0.0031 - val_acc: 0.0000e+00\n",
      "Epoch 18/90\n",
      "2173/2173 [==============================] - 9s 4ms/step - loss: 3.5374e-04 - acc: 4.6019e-04 - val_loss: 0.0032 - val_acc: 0.0000e+00\n",
      "Epoch 19/90\n",
      "2173/2173 [==============================] - 9s 4ms/step - loss: 3.9238e-04 - acc: 4.6019e-04 - val_loss: 0.0027 - val_acc: 0.0000e+00\n",
      "Epoch 20/90\n",
      "2173/2173 [==============================] - 9s 4ms/step - loss: 3.5856e-04 - acc: 4.6019e-04 - val_loss: 0.0022 - val_acc: 0.0000e+00\n",
      "Epoch 21/90\n",
      "2173/2173 [==============================] - 9s 4ms/step - loss: 3.6128e-04 - acc: 4.6019e-04 - val_loss: 0.0023 - val_acc: 0.0000e+00\n",
      "Epoch 22/90\n",
      "2173/2173 [==============================] - 9s 4ms/step - loss: 3.5562e-04 - acc: 4.6019e-04 - val_loss: 0.0027 - val_acc: 0.0000e+00\n",
      "Epoch 23/90\n",
      "2173/2173 [==============================] - 9s 4ms/step - loss: 3.5210e-04 - acc: 4.6019e-04 - val_loss: 0.0018 - val_acc: 0.0000e+00\n",
      "Epoch 24/90\n",
      "2173/2173 [==============================] - 9s 4ms/step - loss: 3.4930e-04 - acc: 4.6019e-04 - val_loss: 0.0022 - val_acc: 0.0000e+00\n",
      "Epoch 25/90\n",
      "2173/2173 [==============================] - 9s 4ms/step - loss: 3.5174e-04 - acc: 4.6019e-04 - val_loss: 0.0014 - val_acc: 0.0000e+00\n",
      "Epoch 26/90\n",
      "2173/2173 [==============================] - 10s 5ms/step - loss: 3.5614e-04 - acc: 4.6019e-04 - val_loss: 0.0017 - val_acc: 0.0000e+00\n",
      "Epoch 27/90\n",
      "2173/2173 [==============================] - 9s 4ms/step - loss: 3.0795e-04 - acc: 4.6019e-04 - val_loss: 0.0017 - val_acc: 0.0000e+00\n",
      "Epoch 28/90\n",
      "2173/2173 [==============================] - 9s 4ms/step - loss: 3.2140e-04 - acc: 4.6019e-04 - val_loss: 0.0023 - val_acc: 0.0000e+00\n",
      "Epoch 29/90\n",
      "2173/2173 [==============================] - 12s 5ms/step - loss: 3.4719e-04 - acc: 4.6019e-04 - val_loss: 0.0012 - val_acc: 0.0000e+00\n",
      "Epoch 30/90\n",
      "2173/2173 [==============================] - 10s 5ms/step - loss: 3.3739e-04 - acc: 4.6019e-04 - val_loss: 0.0011 - val_acc: 0.0000e+00\n",
      "Epoch 31/90\n",
      "2173/2173 [==============================] - 9s 4ms/step - loss: 3.1089e-04 - acc: 4.6019e-04 - val_loss: 0.0013 - val_acc: 0.0000e+00\n",
      "Epoch 32/90\n",
      "2173/2173 [==============================] - 10s 5ms/step - loss: 3.0046e-04 - acc: 4.6019e-04 - val_loss: 0.0011 - val_acc: 0.0000e+00\n",
      "Epoch 33/90\n",
      "2173/2173 [==============================] - 9s 4ms/step - loss: 3.1833e-04 - acc: 4.6019e-04 - val_loss: 9.0255e-04 - val_acc: 0.0000e+00\n",
      "Epoch 34/90\n",
      "2173/2173 [==============================] - 10s 5ms/step - loss: 3.1102e-04 - acc: 4.6019e-04 - val_loss: 9.5774e-04 - val_acc: 0.0000e+00\n",
      "Epoch 35/90\n",
      "2173/2173 [==============================] - 10s 4ms/step - loss: 3.1705e-04 - acc: 4.6019e-04 - val_loss: 7.1690e-04 - val_acc: 0.0000e+00\n",
      "Epoch 36/90\n",
      "2173/2173 [==============================] - 9s 4ms/step - loss: 3.1232e-04 - acc: 4.6019e-04 - val_loss: 6.3319e-04 - val_acc: 0.0000e+00\n",
      "Epoch 37/90\n",
      "2173/2173 [==============================] - 9s 4ms/step - loss: 3.0711e-04 - acc: 4.6019e-04 - val_loss: 6.5947e-04 - val_acc: 0.0000e+00\n",
      "Epoch 38/90\n",
      "2173/2173 [==============================] - 11s 5ms/step - loss: 2.9985e-04 - acc: 4.6019e-04 - val_loss: 0.0010 - val_acc: 0.0000e+00\n",
      "Epoch 39/90\n",
      "2173/2173 [==============================] - 11s 5ms/step - loss: 3.1129e-04 - acc: 4.6019e-04 - val_loss: 0.0019 - val_acc: 0.0000e+00\n",
      "Epoch 40/90\n",
      "2173/2173 [==============================] - 12s 6ms/step - loss: 3.6350e-04 - acc: 4.6019e-04 - val_loss: 9.9402e-04 - val_acc: 0.0000e+00\n",
      "Epoch 41/90\n",
      "2173/2173 [==============================] - 12s 5ms/step - loss: 2.9006e-04 - acc: 4.6019e-04 - val_loss: 5.5030e-04 - val_acc: 0.0000e+00\n",
      "Epoch 42/90\n",
      "2173/2173 [==============================] - 13s 6ms/step - loss: 2.8863e-04 - acc: 4.6019e-04 - val_loss: 6.3465e-04 - val_acc: 0.0000e+00\n",
      "Epoch 43/90\n",
      "2173/2173 [==============================] - 12s 5ms/step - loss: 3.3315e-04 - acc: 4.6019e-04 - val_loss: 5.5866e-04 - val_acc: 0.0000e+00\n",
      "Epoch 44/90\n",
      "2173/2173 [==============================] - 12s 6ms/step - loss: 3.3305e-04 - acc: 4.6019e-04 - val_loss: 5.7186e-04 - val_acc: 0.0000e+00\n",
      "Epoch 45/90\n",
      "2173/2173 [==============================] - 12s 5ms/step - loss: 2.9967e-04 - acc: 4.6019e-04 - val_loss: 5.7556e-04 - val_acc: 0.0000e+00\n",
      "Epoch 46/90\n",
      "2173/2173 [==============================] - 12s 5ms/step - loss: 2.9368e-04 - acc: 4.6019e-04 - val_loss: 5.5407e-04 - val_acc: 0.0000e+00\n",
      "Epoch 47/90\n",
      "2173/2173 [==============================] - 13s 6ms/step - loss: 2.7481e-04 - acc: 4.6019e-04 - val_loss: 5.2647e-04 - val_acc: 0.0000e+00\n",
      "Epoch 48/90\n",
      "2173/2173 [==============================] - 12s 6ms/step - loss: 2.8132e-04 - acc: 4.6019e-04 - val_loss: 7.7363e-04 - val_acc: 0.0000e+00\n",
      "Epoch 49/90\n",
      "2173/2173 [==============================] - 13s 6ms/step - loss: 2.6386e-04 - acc: 4.6019e-04 - val_loss: 5.5187e-04 - val_acc: 0.0000e+00\n",
      "Epoch 50/90\n",
      "2173/2173 [==============================] - 13s 6ms/step - loss: 2.7087e-04 - acc: 4.6019e-04 - val_loss: 4.4966e-04 - val_acc: 0.0000e+00\n",
      "Epoch 51/90\n",
      "2173/2173 [==============================] - 12s 6ms/step - loss: 2.7211e-04 - acc: 4.6019e-04 - val_loss: 4.7575e-04 - val_acc: 0.0000e+00\n",
      "Epoch 52/90\n",
      "2173/2173 [==============================] - 12s 5ms/step - loss: 2.7265e-04 - acc: 4.6019e-04 - val_loss: 4.4875e-04 - val_acc: 0.0000e+00\n",
      "Epoch 53/90\n",
      "2173/2173 [==============================] - 11s 5ms/step - loss: 2.7872e-04 - acc: 4.6019e-04 - val_loss: 4.4492e-04 - val_acc: 0.0000e+00\n",
      "Epoch 54/90\n",
      "2173/2173 [==============================] - 11s 5ms/step - loss: 2.5518e-04 - acc: 4.6019e-04 - val_loss: 4.2809e-04 - val_acc: 0.0000e+00\n",
      "Epoch 55/90\n",
      "2173/2173 [==============================] - 11s 5ms/step - loss: 2.6783e-04 - acc: 4.6019e-04 - val_loss: 4.7865e-04 - val_acc: 0.0000e+00\n"
     ]
    },
    {
     "name": "stdout",
     "output_type": "stream",
     "text": [
      "Epoch 56/90\n",
      "2173/2173 [==============================] - 11s 5ms/step - loss: 2.7159e-04 - acc: 4.6019e-04 - val_loss: 7.5776e-04 - val_acc: 0.0000e+00\n",
      "Epoch 57/90\n",
      "2173/2173 [==============================] - 10s 5ms/step - loss: 2.6633e-04 - acc: 4.6019e-04 - val_loss: 7.2047e-04 - val_acc: 0.0000e+00\n",
      "Epoch 58/90\n",
      "2173/2173 [==============================] - 10s 5ms/step - loss: 2.7979e-04 - acc: 4.6019e-04 - val_loss: 4.6122e-04 - val_acc: 0.0000e+00\n",
      "Epoch 59/90\n",
      "2173/2173 [==============================] - 11s 5ms/step - loss: 2.6702e-04 - acc: 4.6019e-04 - val_loss: 4.2402e-04 - val_acc: 0.0000e+00\n",
      "Epoch 60/90\n",
      "2173/2173 [==============================] - 11s 5ms/step - loss: 2.7024e-04 - acc: 4.6019e-04 - val_loss: 4.2680e-04 - val_acc: 0.0000e+00\n",
      "Epoch 61/90\n",
      "2173/2173 [==============================] - 11s 5ms/step - loss: 2.7291e-04 - acc: 4.6019e-04 - val_loss: 4.8538e-04 - val_acc: 0.0000e+00\n",
      "Epoch 62/90\n",
      "2173/2173 [==============================] - 13s 6ms/step - loss: 2.4299e-04 - acc: 4.6019e-04 - val_loss: 9.5276e-04 - val_acc: 0.0000e+00\n",
      "Epoch 63/90\n",
      "2173/2173 [==============================] - 12s 5ms/step - loss: 2.5947e-04 - acc: 4.6019e-04 - val_loss: 8.4411e-04 - val_acc: 0.0000e+00\n",
      "Epoch 64/90\n",
      "2173/2173 [==============================] - 10s 5ms/step - loss: 2.6360e-04 - acc: 4.6019e-04 - val_loss: 4.3422e-04 - val_acc: 0.0000e+00\n",
      "Epoch 65/90\n",
      "2173/2173 [==============================] - 11s 5ms/step - loss: 2.7238e-04 - acc: 4.6019e-04 - val_loss: 4.2669e-04 - val_acc: 0.0000e+00\n",
      "Epoch 66/90\n",
      "2173/2173 [==============================] - 10s 5ms/step - loss: 2.7116e-04 - acc: 4.6019e-04 - val_loss: 5.6479e-04 - val_acc: 0.0000e+00\n",
      "Epoch 67/90\n",
      "2173/2173 [==============================] - 11s 5ms/step - loss: 2.6271e-04 - acc: 4.6019e-04 - val_loss: 5.0380e-04 - val_acc: 0.0000e+00\n",
      "Epoch 68/90\n",
      "2173/2173 [==============================] - 11s 5ms/step - loss: 2.9986e-04 - acc: 4.6019e-04 - val_loss: 5.6277e-04 - val_acc: 0.0000e+00\n",
      "Epoch 69/90\n",
      "2173/2173 [==============================] - 10s 5ms/step - loss: 2.9896e-04 - acc: 4.6019e-04 - val_loss: 4.3870e-04 - val_acc: 0.0000e+00\n",
      "Epoch 70/90\n",
      "2173/2173 [==============================] - 10s 5ms/step - loss: 2.5259e-04 - acc: 4.6019e-04 - val_loss: 5.3286e-04 - val_acc: 0.0000e+00\n",
      "Epoch 71/90\n",
      "2173/2173 [==============================] - 10s 5ms/step - loss: 2.5695e-04 - acc: 4.6019e-04 - val_loss: 6.0974e-04 - val_acc: 0.0000e+00\n",
      "Epoch 72/90\n",
      "2173/2173 [==============================] - 10s 5ms/step - loss: 2.5141e-04 - acc: 4.6019e-04 - val_loss: 5.4596e-04 - val_acc: 0.0000e+00\n",
      "Epoch 73/90\n",
      "2173/2173 [==============================] - 10s 5ms/step - loss: 2.5753e-04 - acc: 4.6019e-04 - val_loss: 3.8308e-04 - val_acc: 0.0000e+00\n",
      "Epoch 74/90\n",
      "2173/2173 [==============================] - 11s 5ms/step - loss: 2.5228e-04 - acc: 4.6019e-04 - val_loss: 3.6543e-04 - val_acc: 0.0000e+00\n",
      "Epoch 75/90\n",
      "2173/2173 [==============================] - 10s 4ms/step - loss: 2.3783e-04 - acc: 4.6019e-04 - val_loss: 3.5445e-04 - val_acc: 0.0000e+00\n",
      "Epoch 76/90\n",
      "2173/2173 [==============================] - 10s 4ms/step - loss: 2.4817e-04 - acc: 4.6019e-04 - val_loss: 3.4855e-04 - val_acc: 0.0000e+00\n",
      "Epoch 77/90\n",
      "2173/2173 [==============================] - 10s 4ms/step - loss: 2.3349e-04 - acc: 4.6019e-04 - val_loss: 3.4108e-04 - val_acc: 0.0000e+00\n",
      "Epoch 78/90\n",
      "2173/2173 [==============================] - 10s 5ms/step - loss: 2.4399e-04 - acc: 4.6019e-04 - val_loss: 3.4487e-04 - val_acc: 0.0000e+00\n",
      "Epoch 79/90\n",
      "2173/2173 [==============================] - 10s 4ms/step - loss: 2.5241e-04 - acc: 4.6019e-04 - val_loss: 3.4046e-04 - val_acc: 0.0000e+00\n",
      "Epoch 80/90\n",
      "2173/2173 [==============================] - 10s 4ms/step - loss: 2.4317e-04 - acc: 4.6019e-04 - val_loss: 4.4639e-04 - val_acc: 0.0000e+00\n",
      "Epoch 81/90\n",
      "2173/2173 [==============================] - 10s 5ms/step - loss: 2.3263e-04 - acc: 4.6019e-04 - val_loss: 7.9882e-04 - val_acc: 0.0000e+00\n",
      "Epoch 82/90\n",
      "2173/2173 [==============================] - 9s 4ms/step - loss: 2.5534e-04 - acc: 4.6019e-04 - val_loss: 3.3879e-04 - val_acc: 0.0000e+00\n",
      "Epoch 83/90\n",
      "2173/2173 [==============================] - 9s 4ms/step - loss: 2.4023e-04 - acc: 4.6019e-04 - val_loss: 3.4726e-04 - val_acc: 0.0000e+00\n",
      "Epoch 84/90\n",
      "2173/2173 [==============================] - 9s 4ms/step - loss: 2.3149e-04 - acc: 4.6019e-04 - val_loss: 3.2618e-04 - val_acc: 0.0000e+00\n",
      "Epoch 85/90\n",
      "2173/2173 [==============================] - 10s 5ms/step - loss: 2.5324e-04 - acc: 4.6019e-04 - val_loss: 7.3325e-04 - val_acc: 0.0000e+00\n",
      "Epoch 86/90\n",
      "2173/2173 [==============================] - 10s 4ms/step - loss: 2.6992e-04 - acc: 4.6019e-04 - val_loss: 5.1681e-04 - val_acc: 0.0000e+00\n",
      "Epoch 87/90\n",
      "2173/2173 [==============================] - 9s 4ms/step - loss: 2.6751e-04 - acc: 4.6019e-04 - val_loss: 4.0528e-04 - val_acc: 0.0000e+00\n",
      "Epoch 88/90\n",
      "2173/2173 [==============================] - 9s 4ms/step - loss: 2.5206e-04 - acc: 4.6019e-04 - val_loss: 8.0422e-04 - val_acc: 0.0000e+00\n",
      "Epoch 89/90\n",
      "2173/2173 [==============================] - 9s 4ms/step - loss: 2.3800e-04 - acc: 4.6019e-04 - val_loss: 6.7626e-04 - val_acc: 0.0000e+00\n",
      "Epoch 90/90\n",
      "2173/2173 [==============================] - 10s 5ms/step - loss: 2.5890e-04 - acc: 4.6019e-04 - val_loss: 3.0701e-04 - val_acc: 0.0000e+00\n"
     ]
    },
    {
     "data": {
      "text/plain": [
       "<keras.callbacks.History at 0xaa2e779978>"
      ]
     },
     "execution_count": 16,
     "metadata": {},
     "output_type": "execute_result"
    }
   ],
   "source": [
    "model.fit(x_train,y_train,batch_size=512,epochs=90,validation_split=0.1,verbose=1)"
   ]
  },
  {
   "cell_type": "code",
   "execution_count": 17,
   "metadata": {},
   "outputs": [
    {
     "name": "stdout",
     "output_type": "stream",
     "text": [
      "0.00012988403601137873\n"
     ]
    }
   ],
   "source": [
    "# train data predict\n",
    "p = model.predict(x_train)\n",
    "p = [x[0] for x in p]\n",
    "mse = sum([(p[i] - y_train[i]) ** 2 for i in range(len(p))]) / len(p)\n",
    "print(mse)"
   ]
  },
  {
   "cell_type": "code",
   "execution_count": 18,
   "metadata": {},
   "outputs": [
    {
     "data": {
      "image/png": "[encoded data removed]",
      "text/plain": [
       "<Figure size 432x288 with 1 Axes>"
      ]
     },
     "metadata": {},
     "output_type": "display_data"
    }
   ],
   "source": [
    "plt.plot(p,color='red', label='Prediction')\n",
    "plt.plot(y_train,color='blue', label='Actual')\n",
    "plt.legend(loc='best')\n",
    "plt.show()"
   ]
  },
  {
   "cell_type": "code",
   "execution_count": 19,
   "metadata": {},
   "outputs": [
    {
     "name": "stdout",
     "output_type": "stream",
     "text": [
      "0.0012964845798831824\n"
     ]
    }
   ],
   "source": [
    "# test data predict\n",
    "p = model.predict(x_test)\n",
    "p = [x[0] for x in p]\n",
    "mse = sum([(p[i] - y_test[i]) ** 2 for i in range(len(p))]) / len(p)\n",
    "print(mse)"
   ]
  },
  {
   "cell_type": "code",
   "execution_count": 20,
   "metadata": {},
   "outputs": [
    {
     "data": {
      "image/png": "[encoded data removed]",
      "text/plain": [
       "<Figure size 432x288 with 1 Axes>"
      ]
     },
     "metadata": {},
     "output_type": "display_data"
    }
   ],
   "source": [
    "plt.plot(p,color='red', label='Prediction')\n",
    "plt.plot(y_test,color='blue', label='Actual')\n",
    "plt.legend(loc='best')\n",
    "plt.show() "
   ]
  },
  {
   "cell_type": "markdown",
   "metadata": {},
   "source": [
    "## Predict growth rate"
   ]
  },
  {
   "cell_type": "code",
   "execution_count": 128,
   "metadata": {},
   "outputs": [],
   "source": [
    "def shift_close(close_price, window_size):\n",
    "    shifted_return = (close_price - close_price.shift(window_size)) / (close_price.shift(window_size) + 0.00001)\n",
    "    shifted_return.dropna(inplace=True)\n",
    "    shifted_return.reset_index(drop=True, inplace=True)\n",
    "    return shifted_return"
   ]
  },
  {
   "cell_type": "code",
   "execution_count": 135,
   "metadata": {},
   "outputs": [
    {
     "data": {
      "text/plain": [
       "array([[0., 0., 0., ..., 0., 0., 0.]])"
      ]
     },
     "execution_count": 135,
     "metadata": {},
     "output_type": "execute_result"
    }
   ],
   "source": [
    "Y = shift_close(input_data.close, 1)[219]\n",
    "Y = min_max_scaler.fit_transform(input_data.volume.values.reshape(1,-1))\n",
    "#Y = min_max_scaler.fit_transform(np.array([Y]))\n",
    "Y"
   ]
  },
  {
   "cell_type": "code",
   "execution_count": null,
   "metadata": {},
   "outputs": [],
   "source": []
  },
  {
   "cell_type": "code",
   "execution_count": 68,
   "metadata": {},
   "outputs": [],
   "source": [
    "# threshold search 二分逼近\n",
    "def threshold_check_binary(close_price, ratio, low_bound, high_bound, iter_now):\n",
    "    threshold = (low_bound + high_bound) / 2\n",
    "    rate = sum(close_price > threshold) / len(close_price)\n",
    "    if rate == ratio or iter_now == 0:\n",
    "        return threshold;\n",
    "    elif rate < ratio:\n",
    "        return threshold_check(close_price, ratio, low_bound, threshold, iter_now - 1)\n",
    "    else:\n",
    "        return threshold_check(close_price, ratio, threshold, high_bound, iter_now - 1)\n",
    "    "
   ]
  },
  {
   "cell_type": "code",
   "execution_count": 69,
   "metadata": {},
   "outputs": [],
   "source": [
    "# threshold search 切區段\n",
    "def threshold_check_segment(close_price, ratio, low_bound, high_bound, section_num):\n",
    "    threshold = np.linspace(low_bound, high_bound, section_num)\n",
    "    rate = [sum(close_price > th) / len(close_price) for th in threshold]\n",
    "    mse = [(r - ratio) ** 2 for r in rate]\n",
    "    best_rate = threshold[mse.index(min(mse))]\n",
    "    return best_rate"
   ]
  },
  {
   "cell_type": "code",
   "execution_count": 93,
   "metadata": {},
   "outputs": [
    {
     "name": "stdout",
     "output_type": "stream",
     "text": [
      "0.004980468750000001\n"
     ]
    }
   ],
   "source": [
    "# growth rate and threshold count\n",
    "growth_rate = [(p[i + 1] - p[i]) / float(p[i]) for i in range(len(p) - 1)]\n",
    "y_test_rate = [(y_test[i + 1] - y_test[i]) / float(y_test[i]) for i in range(len(p) - 1)]\n",
    "Y = shift_close(input_data.close, 1)\n",
    "\n",
    "threshold_binary = threshold_check_binary(Y, 7/17, 0, 0.1, 100)\n",
    "threshold_segment = threshold_check_segment(Y, 7/17, 0, 0.1, 100)\n",
    "print(threshold_binary)"
   ]
  },
  {
   "cell_type": "code",
   "execution_count": 94,
   "metadata": {},
   "outputs": [
    {
     "data": {
      "image/png": "[encoded data removed]",
      "text/plain": [
       "<Figure size 432x288 with 1 Axes>"
      ]
     },
     "metadata": {},
     "output_type": "display_data"
    }
   ],
   "source": [
    "plt.plot(growth_rate,color='red', label='Prediction')\n",
    "plt.plot(y_test_rate,color='blue', label='Actual')\n",
    "plt.legend(loc='best')\n",
    "plt.show() "
   ]
  },
  {
   "cell_type": "code",
   "execution_count": 95,
   "metadata": {},
   "outputs": [],
   "source": [
    "y_test_threshold = [1 if y > threshold_binary else 0 for y in y_test_rate]\n",
    "growth_rate_threshold = [1 if growth > threshold_binary else 0 for growth in growth_rate]\n",
    "error_rate = sum([y_test_threshold[i] ^ growth_rate_threshold[i] for i in range(len(growth_rate_threshold))]) / len(growth_rate_threshold)"
   ]
  },
  {
   "cell_type": "code",
   "execution_count": null,
   "metadata": {},
   "outputs": [],
   "source": []
  }
 ],
 "metadata": {
  "kernelspec": {
   "display_name": "Python 3",
   "language": "python",
   "name": "python3"
  },
  "language_info": {
   "codemirror_mode": {
    "name": "ipython",
    "version": 3
   },
   "file_extension": ".py",
   "mimetype": "text/x-python",
   "name": "python",
   "nbconvert_exporter": "python",
   "pygments_lexer": "ipython3",
   "version": "3.5.5"
  }
 },
 "nbformat": 4,
 "nbformat_minor": 2
}
