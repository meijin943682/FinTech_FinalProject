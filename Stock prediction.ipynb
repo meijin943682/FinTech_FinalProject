{
 "cells": [
  {
   "cell_type": "code",
   "execution_count": 1,
   "metadata": {},
   "outputs": [],
   "source": [
    "import pandas as pd\n",
    "import numpy as np\n",
    "from talib.abstract import *\n",
    "from datetime import datetime\n",
    "import matplotlib.pyplot as plt\n",
    "%matplotlib inline\n",
    "pd.options.display.max_rows = 10"
   ]
  },
  {
   "cell_type": "markdown",
   "metadata": {},
   "source": [
    "# Data preprocess"
   ]
  },
  {
   "cell_type": "code",
   "execution_count": 2,
   "metadata": {},
   "outputs": [],
   "source": [
    "input_data = pd.read_csv(\"2330.csv\")"
   ]
  },
  {
   "cell_type": "code",
   "execution_count": 3,
   "metadata": {
    "scrolled": true
   },
   "outputs": [
    {
     "data": {
      "text/html": [
       "<div>\n",
       "<style scoped>\n",
       "    .dataframe tbody tr th:only-of-type {\n",
       "        vertical-align: middle;\n",
       "    }\n",
       "\n",
       "    .dataframe tbody tr th {\n",
       "        vertical-align: top;\n",
       "    }\n",
       "\n",
       "    .dataframe thead th {\n",
       "        text-align: right;\n",
       "    }\n",
       "</style>\n",
       "<table border=\"1\" class=\"dataframe\">\n",
       "  <thead>\n",
       "    <tr style=\"text-align: right;\">\n",
       "      <th></th>\n",
       "      <th>證券代碼</th>\n",
       "      <th>年月日</th>\n",
       "      <th>開盤價(元)</th>\n",
       "      <th>最高價(元)</th>\n",
       "      <th>最低價(元)</th>\n",
       "      <th>收盤價(元)</th>\n",
       "      <th>成交量(千股)</th>\n",
       "      <th>外資買賣超(千股)</th>\n",
       "      <th>投信買賣超(千股)</th>\n",
       "      <th>自營買賣超(千股)</th>\n",
       "      <th>外資總投資股率%</th>\n",
       "      <th>投信持股率%</th>\n",
       "      <th>自營持股率%</th>\n",
       "    </tr>\n",
       "  </thead>\n",
       "  <tbody>\n",
       "    <tr>\n",
       "      <th>0</th>\n",
       "      <td>2330 台積電</td>\n",
       "      <td>1/2/2008</td>\n",
       "      <td>39.58</td>\n",
       "      <td>39.58</td>\n",
       "      <td>38.43</td>\n",
       "      <td>38.62</td>\n",
       "      <td>38,970</td>\n",
       "      <td>394</td>\n",
       "      <td>-8,824</td>\n",
       "      <td>-365</td>\n",
       "      <td>71.79</td>\n",
       "      <td>0.53</td>\n",
       "      <td>0.02</td>\n",
       "    </tr>\n",
       "    <tr>\n",
       "      <th>1</th>\n",
       "      <td>2330 台積電</td>\n",
       "      <td>1/3/2008</td>\n",
       "      <td>38.24</td>\n",
       "      <td>38.30</td>\n",
       "      <td>37.92</td>\n",
       "      <td>37.92</td>\n",
       "      <td>34,838</td>\n",
       "      <td>-9,307</td>\n",
       "      <td>-804</td>\n",
       "      <td>482</td>\n",
       "      <td>71.76</td>\n",
       "      <td>0.52</td>\n",
       "      <td>0.02</td>\n",
       "    </tr>\n",
       "    <tr>\n",
       "      <th>2</th>\n",
       "      <td>2330 台積電</td>\n",
       "      <td>1/4/2008</td>\n",
       "      <td>37.86</td>\n",
       "      <td>38.56</td>\n",
       "      <td>37.34</td>\n",
       "      <td>38.30</td>\n",
       "      <td>48,400</td>\n",
       "      <td>-6,802</td>\n",
       "      <td>-1,357</td>\n",
       "      <td>711</td>\n",
       "      <td>71.73</td>\n",
       "      <td>0.52</td>\n",
       "      <td>0.02</td>\n",
       "    </tr>\n",
       "    <tr>\n",
       "      <th>3</th>\n",
       "      <td>2330 台積電</td>\n",
       "      <td>1/7/2008</td>\n",
       "      <td>36.39</td>\n",
       "      <td>37.03</td>\n",
       "      <td>35.62</td>\n",
       "      <td>35.62</td>\n",
       "      <td>103,229</td>\n",
       "      <td>-65,640</td>\n",
       "      <td>-5,021</td>\n",
       "      <td>-1,424</td>\n",
       "      <td>71.48</td>\n",
       "      <td>0.50</td>\n",
       "      <td>0.02</td>\n",
       "    </tr>\n",
       "    <tr>\n",
       "      <th>4</th>\n",
       "      <td>2330 台積電</td>\n",
       "      <td>1/8/2008</td>\n",
       "      <td>35.62</td>\n",
       "      <td>36.13</td>\n",
       "      <td>35.43</td>\n",
       "      <td>35.75</td>\n",
       "      <td>47,333</td>\n",
       "      <td>-13,831</td>\n",
       "      <td>77</td>\n",
       "      <td>-1,248</td>\n",
       "      <td>71.43</td>\n",
       "      <td>0.50</td>\n",
       "      <td>0.01</td>\n",
       "    </tr>\n",
       "  </tbody>\n",
       "</table>\n",
       "</div>"
      ],
      "text/plain": [
       "       證券代碼       年月日  開盤價(元)  最高價(元)  最低價(元)  收盤價(元)  成交量(千股) 外資買賣超(千股)  \\\n",
       "0  2330 台積電  1/2/2008   39.58   39.58   38.43   38.62   38,970       394   \n",
       "1  2330 台積電  1/3/2008   38.24   38.30   37.92   37.92   34,838    -9,307   \n",
       "2  2330 台積電  1/4/2008   37.86   38.56   37.34   38.30   48,400    -6,802   \n",
       "3  2330 台積電  1/7/2008   36.39   37.03   35.62   35.62  103,229   -65,640   \n",
       "4  2330 台積電  1/8/2008   35.62   36.13   35.43   35.75   47,333   -13,831   \n",
       "\n",
       "  投信買賣超(千股) 自營買賣超(千股)  外資總投資股率%  投信持股率%  自營持股率%  \n",
       "0    -8,824      -365     71.79    0.53    0.02  \n",
       "1      -804       482     71.76    0.52    0.02  \n",
       "2    -1,357       711     71.73    0.52    0.02  \n",
       "3    -5,021    -1,424     71.48    0.50    0.02  \n",
       "4        77    -1,248     71.43    0.50    0.01  "
      ]
     },
     "execution_count": 3,
     "metadata": {},
     "output_type": "execute_result"
    }
   ],
   "source": [
    "input_data.head()"
   ]
  },
  {
   "cell_type": "code",
   "execution_count": 4,
   "metadata": {},
   "outputs": [],
   "source": [
    "input_data.iloc[:, 1] = input_data.iloc[:, 1].apply(lambda x: datetime.strptime(x, \"%m/%d/%Y\"))\n",
    "input_data.sort_values(\"年月日\", inplace=True)"
   ]
  },
  {
   "cell_type": "code",
   "execution_count": 5,
   "metadata": {
    "scrolled": true
   },
   "outputs": [
    {
     "data": {
      "text/plain": [
       "證券代碼         0\n",
       "年月日          0\n",
       "開盤價(元)       0\n",
       "最高價(元)       0\n",
       "最低價(元)       0\n",
       "            ..\n",
       "投信買賣超(千股)    0\n",
       "自營買賣超(千股)    0\n",
       "外資總投資股率%     0\n",
       "投信持股率%       0\n",
       "自營持股率%       0\n",
       "Length: 13, dtype: int64"
      ]
     },
     "execution_count": 5,
     "metadata": {},
     "output_type": "execute_result"
    }
   ],
   "source": [
    "input_data.isna().sum()"
   ]
  },
  {
   "cell_type": "code",
   "execution_count": 6,
   "metadata": {},
   "outputs": [],
   "source": [
    "def transform(x):\n",
    "    try:\n",
    "        return x.replace(\",\", \"\")\n",
    "    except:\n",
    "        return x\n",
    "\n",
    "input_data.iloc[:, 2:] = input_data.iloc[:, 2:].applymap(lambda x: float(transform(x)))"
   ]
  },
  {
   "cell_type": "code",
   "execution_count": 7,
   "metadata": {},
   "outputs": [],
   "source": [
    "input_data = input_data.iloc[:, 2:]"
   ]
  },
  {
   "cell_type": "code",
   "execution_count": 8,
   "metadata": {},
   "outputs": [],
   "source": [
    "columns = ['open', 'high', 'low', 'close', 'volume',\n",
    "           'foreign', 'trust', 'dealer',\n",
    "           'foreign_ratio', 'trust_ratio', 'dealer_ratio']\n",
    "\n",
    "input_data.columns = columns"
   ]
  },
  {
   "cell_type": "code",
   "execution_count": 9,
   "metadata": {},
   "outputs": [],
   "source": [
    "input_data[\"EMA_5\"] = EMA(input_data, timeperiod = 5) #計算EMA(5)\n",
    "input_data[\"EMA_10\"] = EMA(input_data, timeperiod = 10) #計算EMA(10)\n",
    "input_data[\"EMA_20\"] = EMA(input_data, timeperiod = 20) #計算EMA(20)\n",
    "input_data = pd.concat([input_data, BBANDS(input_data, 20, 2, 2)], axis = 1) #計算BBands\n",
    "input_data = pd.concat([input_data, STOCH(input_data)], axis = 1) #計算KD值\n",
    "input_data[\"Momentum\"] = MOM(input_data) #計算Momentum\n",
    "input_data[\"RSI\"] = RSI(input_data) #計算RSI\n",
    "input_data[\"WILLR\"] = WILLR(input_data) #計算William指標\n",
    "input_data[\"ADOSC\"] = ADOSC(input_data) #計算ADOSC\n",
    "\n",
    "input_data.dropna(inplace = True) #去除缺值"
   ]
  },
  {
   "cell_type": "code",
   "execution_count": 10,
   "metadata": {
    "scrolled": true
   },
   "outputs": [
    {
     "data": {
      "text/html": [
       "<div>\n",
       "<style scoped>\n",
       "    .dataframe tbody tr th:only-of-type {\n",
       "        vertical-align: middle;\n",
       "    }\n",
       "\n",
       "    .dataframe tbody tr th {\n",
       "        vertical-align: top;\n",
       "    }\n",
       "\n",
       "    .dataframe thead th {\n",
       "        text-align: right;\n",
       "    }\n",
       "</style>\n",
       "<table border=\"1\" class=\"dataframe\">\n",
       "  <thead>\n",
       "    <tr style=\"text-align: right;\">\n",
       "      <th></th>\n",
       "      <th>open</th>\n",
       "      <th>high</th>\n",
       "      <th>low</th>\n",
       "      <th>close</th>\n",
       "      <th>volume</th>\n",
       "      <th>foreign</th>\n",
       "      <th>trust</th>\n",
       "      <th>dealer</th>\n",
       "      <th>foreign_ratio</th>\n",
       "      <th>trust_ratio</th>\n",
       "      <th>...</th>\n",
       "      <th>EMA_20</th>\n",
       "      <th>upperband</th>\n",
       "      <th>middleband</th>\n",
       "      <th>lowerband</th>\n",
       "      <th>slowk</th>\n",
       "      <th>slowd</th>\n",
       "      <th>Momentum</th>\n",
       "      <th>RSI</th>\n",
       "      <th>WILLR</th>\n",
       "      <th>ADOSC</th>\n",
       "    </tr>\n",
       "  </thead>\n",
       "  <tbody>\n",
       "    <tr>\n",
       "      <th>19</th>\n",
       "      <td>35.68</td>\n",
       "      <td>36.39</td>\n",
       "      <td>35.49</td>\n",
       "      <td>36.39</td>\n",
       "      <td>58212.0</td>\n",
       "      <td>38559.0</td>\n",
       "      <td>198.0</td>\n",
       "      <td>406.0</td>\n",
       "      <td>71.31</td>\n",
       "      <td>0.54</td>\n",
       "      <td>...</td>\n",
       "      <td>35.456500</td>\n",
       "      <td>38.787946</td>\n",
       "      <td>35.4565</td>\n",
       "      <td>32.125054</td>\n",
       "      <td>88.019560</td>\n",
       "      <td>77.289222</td>\n",
       "      <td>-0.32</td>\n",
       "      <td>47.382253</td>\n",
       "      <td>-10.754717</td>\n",
       "      <td>-32111.853521</td>\n",
       "    </tr>\n",
       "    <tr>\n",
       "      <th>20</th>\n",
       "      <td>36.71</td>\n",
       "      <td>37.22</td>\n",
       "      <td>36.39</td>\n",
       "      <td>36.90</td>\n",
       "      <td>110696.0</td>\n",
       "      <td>38869.0</td>\n",
       "      <td>1103.0</td>\n",
       "      <td>614.0</td>\n",
       "      <td>71.46</td>\n",
       "      <td>0.54</td>\n",
       "      <td>...</td>\n",
       "      <td>35.593976</td>\n",
       "      <td>38.450133</td>\n",
       "      <td>35.3705</td>\n",
       "      <td>32.290867</td>\n",
       "      <td>87.414695</td>\n",
       "      <td>85.294176</td>\n",
       "      <td>1.53</td>\n",
       "      <td>49.330626</td>\n",
       "      <td>-5.755396</td>\n",
       "      <td>-11745.196156</td>\n",
       "    </tr>\n",
       "    <tr>\n",
       "      <th>21</th>\n",
       "      <td>36.71</td>\n",
       "      <td>38.24</td>\n",
       "      <td>36.58</td>\n",
       "      <td>38.24</td>\n",
       "      <td>171328.0</td>\n",
       "      <td>103404.0</td>\n",
       "      <td>438.0</td>\n",
       "      <td>401.0</td>\n",
       "      <td>71.85</td>\n",
       "      <td>0.55</td>\n",
       "      <td>...</td>\n",
       "      <td>35.845978</td>\n",
       "      <td>38.521772</td>\n",
       "      <td>35.3865</td>\n",
       "      <td>32.251228</td>\n",
       "      <td>96.787149</td>\n",
       "      <td>90.740468</td>\n",
       "      <td>3.32</td>\n",
       "      <td>54.136038</td>\n",
       "      <td>-0.000000</td>\n",
       "      <td>52167.817872</td>\n",
       "    </tr>\n",
       "    <tr>\n",
       "      <th>22</th>\n",
       "      <td>38.94</td>\n",
       "      <td>39.71</td>\n",
       "      <td>38.56</td>\n",
       "      <td>39.20</td>\n",
       "      <td>134709.0</td>\n",
       "      <td>90112.0</td>\n",
       "      <td>-120.0</td>\n",
       "      <td>598.0</td>\n",
       "      <td>72.19</td>\n",
       "      <td>0.55</td>\n",
       "      <td>...</td>\n",
       "      <td>36.165409</td>\n",
       "      <td>38.753049</td>\n",
       "      <td>35.4315</td>\n",
       "      <td>32.109951</td>\n",
       "      <td>93.542874</td>\n",
       "      <td>92.581573</td>\n",
       "      <td>4.34</td>\n",
       "      <td>57.263119</td>\n",
       "      <td>-6.335404</td>\n",
       "      <td>78416.786412</td>\n",
       "    </tr>\n",
       "    <tr>\n",
       "      <th>23</th>\n",
       "      <td>38.11</td>\n",
       "      <td>38.49</td>\n",
       "      <td>38.11</td>\n",
       "      <td>38.30</td>\n",
       "      <td>103197.0</td>\n",
       "      <td>16243.0</td>\n",
       "      <td>-2641.0</td>\n",
       "      <td>-201.0</td>\n",
       "      <td>72.25</td>\n",
       "      <td>0.54</td>\n",
       "      <td>...</td>\n",
       "      <td>36.368703</td>\n",
       "      <td>39.115066</td>\n",
       "      <td>35.5655</td>\n",
       "      <td>32.015934</td>\n",
       "      <td>85.618284</td>\n",
       "      <td>91.982769</td>\n",
       "      <td>4.27</td>\n",
       "      <td>53.575153</td>\n",
       "      <td>-17.515528</td>\n",
       "      <td>82026.202050</td>\n",
       "    </tr>\n",
       "  </tbody>\n",
       "</table>\n",
       "<p>5 rows × 23 columns</p>\n",
       "</div>"
      ],
      "text/plain": [
       "     open   high    low  close    volume   foreign   trust  dealer  \\\n",
       "19  35.68  36.39  35.49  36.39   58212.0   38559.0   198.0   406.0   \n",
       "20  36.71  37.22  36.39  36.90  110696.0   38869.0  1103.0   614.0   \n",
       "21  36.71  38.24  36.58  38.24  171328.0  103404.0   438.0   401.0   \n",
       "22  38.94  39.71  38.56  39.20  134709.0   90112.0  -120.0   598.0   \n",
       "23  38.11  38.49  38.11  38.30  103197.0   16243.0 -2641.0  -201.0   \n",
       "\n",
       "    foreign_ratio  trust_ratio      ...          EMA_20  upperband  \\\n",
       "19          71.31         0.54      ...       35.456500  38.787946   \n",
       "20          71.46         0.54      ...       35.593976  38.450133   \n",
       "21          71.85         0.55      ...       35.845978  38.521772   \n",
       "22          72.19         0.55      ...       36.165409  38.753049   \n",
       "23          72.25         0.54      ...       36.368703  39.115066   \n",
       "\n",
       "    middleband  lowerband      slowk      slowd  Momentum        RSI  \\\n",
       "19     35.4565  32.125054  88.019560  77.289222     -0.32  47.382253   \n",
       "20     35.3705  32.290867  87.414695  85.294176      1.53  49.330626   \n",
       "21     35.3865  32.251228  96.787149  90.740468      3.32  54.136038   \n",
       "22     35.4315  32.109951  93.542874  92.581573      4.34  57.263119   \n",
       "23     35.5655  32.015934  85.618284  91.982769      4.27  53.575153   \n",
       "\n",
       "        WILLR         ADOSC  \n",
       "19 -10.754717 -32111.853521  \n",
       "20  -5.755396 -11745.196156  \n",
       "21  -0.000000  52167.817872  \n",
       "22  -6.335404  78416.786412  \n",
       "23 -17.515528  82026.202050  \n",
       "\n",
       "[5 rows x 23 columns]"
      ]
     },
     "execution_count": 10,
     "metadata": {},
     "output_type": "execute_result"
    }
   ],
   "source": [
    "input_data.head()"
   ]
  },
  {
   "cell_type": "code",
   "execution_count": 11,
   "metadata": {},
   "outputs": [],
   "source": [
    "#定義函數看要落後幾期\n",
    "def lag_operator(data, lag):\n",
    "    \n",
    "    final_data = pd.DataFrame([])\n",
    "    for i in np.arange(1, (lag), 1):\n",
    "        temp_data = data.shift(i)\n",
    "        \n",
    "        #重新設columns名字\n",
    "        temp_data.columns = pd.DataFrame([input_data.columns.values]).T.loc[:, 0].apply(lambda x : \"{}_{}\".format(x, i + 1)).values\n",
    "        \n",
    "        #合併進來\n",
    "        final_data = pd.concat([final_data, temp_data], axis = 1)\n",
    "                \n",
    "    data.columns = pd.DataFrame([data.columns.values]).T.loc[:, 0].apply(lambda x : \"{}_{}\".format(x, 1)).values\n",
    "    final_data = pd.concat([data, final_data], axis = 1)\n",
    "    final_data.dropna(inplace = True)\n",
    "    return(final_data)"
   ]
  },
  {
   "cell_type": "code",
   "execution_count": 12,
   "metadata": {
    "scrolled": true
   },
   "outputs": [],
   "source": [
    "def shift_close(close_price, window_size):\n",
    "    shifted_return = (close_price - close_price.shift(window_size)) / close_price.shift(window_size)\n",
    "    shifted_return.dropna(inplace=True)\n",
    "    shifted_return.reset_index(drop=True, inplace=True)\n",
    "    return shifted_return"
   ]
  },
  {
   "cell_type": "code",
   "execution_count": 30,
   "metadata": {},
   "outputs": [],
   "source": [
    "def threshold_check_binary(close_price, ratio, low_bound, high_bound, iter_now):\n",
    "    threshold = (low_bound + high_bound) / 2\n",
    "    rate = sum(close_price > threshold) / len(close_price)\n",
    "    if rate == ratio or iter_now == 0:\n",
    "        return threshold;\n",
    "    elif rate < ratio:\n",
    "        return threshold_check(close_price, ratio, low_bound, threshold, iter_now - 1)\n",
    "    else:\n",
    "        return threshold_check(close_price, ratio, threshold, high_bound, iter_now - 1)\n",
    "    "
   ]
  },
  {
   "cell_type": "code",
   "execution_count": 31,
   "metadata": {},
   "outputs": [],
   "source": [
    "def threshold_check_segment(close_price, ratio, low_bound, high_bound, section_num):\n",
    "    threshold = np.linspace(low_bound, high_bound, section_num)\n",
    "    rate = [sum(close_price > th) / len(close_price) for th in threshold]\n",
    "    mse = [(r - ratio) ** 2 for r in rate]\n",
    "    best_rate = threshold[mse.index(min(mse))]\n",
    "    return best_rate"
   ]
  },
  {
   "cell_type": "code",
   "execution_count": 15,
   "metadata": {
    "scrolled": false
   },
   "outputs": [],
   "source": [
    "X = lag_operator(input_data, 20)"
   ]
  },
  {
   "cell_type": "code",
   "execution_count": 32,
   "metadata": {
    "scrolled": false
   },
   "outputs": [
    {
     "name": "stdout",
     "output_type": "stream",
     "text": [
      "0.009819335937500003\n",
      "0.01\n"
     ]
    },
    {
     "data": {
      "text/plain": [
       "0.7003841229193342"
      ]
     },
     "execution_count": 32,
     "metadata": {},
     "output_type": "execute_result"
    }
   ],
   "source": [
    "window_size = 5\n",
    "Y = shift_close(X.close_1, window_size)\n",
    "threshold_binary = threshold_check_binary(Y, 7/17, 0, 0.01, 10)\n",
    "threshold_segment = threshold_check_segment(Y, 7/17, 0, 0.01, 10)\n",
    "print(threshold)\n",
    "print(threshold_section)\n",
    "total_num = len(Y)\n",
    "up_num = sum(Y > threshold)\n",
    "up_num / (total_num - up_num)"
   ]
  },
  {
   "cell_type": "code",
   "execution_count": 24,
   "metadata": {},
   "outputs": [],
   "source": [
    "X = X.iloc[:total_num, :]"
   ]
  },
  {
   "cell_type": "code",
   "execution_count": 54,
   "metadata": {
    "scrolled": true
   },
   "outputs": [
    {
     "name": "stdout",
     "output_type": "stream",
     "text": [
      "   2661 2661\n"
     ]
    }
   ],
   "source": [
    "print(\"  \",len(X), len(Y))"
   ]
  },
  {
   "cell_type": "code",
   "execution_count": 60,
   "metadata": {
    "scrolled": true
   },
   "outputs": [],
   "source": [
    "Y[Y > threshold] = 1\n",
    "Y[Y <= threshold] = 0"
   ]
  },
  {
   "cell_type": "markdown",
   "metadata": {},
   "source": [
    "# Train Model"
   ]
  },
  {
   "cell_type": "code",
   "execution_count": 27,
   "metadata": {},
   "outputs": [],
   "source": [
    "from sklearn.preprocessing import MinMaxScaler\n",
    "from sklearn.model_selection import train_test_split\n",
    "from sklearn.metrics import confusion_matrix\n",
    "from sklearn.model_selection import cross_val_score\n",
    "#from confusion_matrix import *"
   ]
  },
  {
   "cell_type": "code",
   "execution_count": 63,
   "metadata": {},
   "outputs": [],
   "source": [
    "scaler = MinMaxScaler()\n",
    "scaler.fit(X)\n",
    "X = scaler.transform(X)\n",
    "\n",
    "x_train, x_test, y_train, y_test =  train_test_split(X, Y, test_size = 0.3, random_state = 666)"
   ]
  },
  {
   "cell_type": "markdown",
   "metadata": {},
   "source": [
    "## Random Forest"
   ]
  },
  {
   "cell_type": "code",
   "execution_count": 25,
   "metadata": {},
   "outputs": [],
   "source": [
    "from sklearn.ensemble import RandomForestClassifier"
   ]
  },
  {
   "cell_type": "code",
   "execution_count": 26,
   "metadata": {},
   "outputs": [
    {
     "data": {
      "text/plain": [
       "RandomForestClassifier(bootstrap=True, class_weight=None, criterion='gini',\n",
       "            max_depth=7, max_features=0.7, max_leaf_nodes=None,\n",
       "            min_impurity_decrease=0.0, min_impurity_split=None,\n",
       "            min_samples_leaf=5, min_samples_split=2,\n",
       "            min_weight_fraction_leaf=0.0, n_estimators=3, n_jobs=None,\n",
       "            oob_score=False, random_state=20, verbose=0, warm_start=False)"
      ]
     },
     "execution_count": 26,
     "metadata": {},
     "output_type": "execute_result"
    }
   ],
   "source": [
    "clf = RandomForestClassifier(criterion = \"gini\", \n",
    "                             n_estimators = 3,  \n",
    "                             random_state = 20, \n",
    "                             max_features = 0.7, \n",
    "                             max_depth = 7,      \n",
    "                             min_samples_leaf = 5,\n",
    "                             ) \n",
    "\n",
    "clf.fit(x_train, y_train)"
   ]
  },
  {
   "cell_type": "code",
   "execution_count": 27,
   "metadata": {},
   "outputs": [
    {
     "name": "stdout",
     "output_type": "stream",
     "text": [
      "Accuracy_train : 75.89% \n",
      "Accuracy_test  : 55.57%\n"
     ]
    }
   ],
   "source": [
    "#訓練資料集預測出之結果\n",
    "y_predict_train = clf.predict(x_train)\n",
    "\n",
    "#測試資料集預測出之結果\n",
    "y_predict_test = clf.predict(x_test)\n",
    "\n",
    "#評估訓練資料集與測試資料集之預測準確率\n",
    "from sklearn.metrics import accuracy_score\n",
    "train_acc = accuracy_score(y_train, y_predict_train )\n",
    "test_acc = accuracy_score(y_test, y_predict_test)\n",
    "\n",
    "print(\"Accuracy_train : %.2f%%\" % (train_acc * 100.0),\"\\n\"\n",
    "      \"Accuracy_test  : %.2f%%\" % (test_acc * 100.0))"
   ]
  },
  {
   "cell_type": "code",
   "execution_count": 28,
   "metadata": {},
   "outputs": [
    {
     "name": "stdout",
     "output_type": "stream",
     "text": [
      "Wall time: 1min 53s\n"
     ]
    }
   ],
   "source": [
    "%%time\n",
    "#使用RandomizedSearchCV在給定所有的模型參數空間中，透過隨機抽取參數的方式建立模型，最後選擇mse最佳者做為最終採用模型\n",
    "from sklearn.model_selection import RandomizedSearchCV\n",
    "\n",
    "#設定模型參數區間\n",
    "rfr_param_grid = {\"n_estimators\" : np.arange(10, 31, 1),\n",
    "                  \"criterion\" : [\"entropy\", \"gini\"],\n",
    "                  \"max_features\" : [\"auto\", \"sqrt\", \"log2\"],\n",
    "                  \"max_depth\" : np.arange(1, 31, 1),\n",
    "                  \"min_samples_leaf\" : np.arange(1, 11, 1)\n",
    "                 }\n",
    "\n",
    "#同樣選擇隨機森林演算法，此處採用回歸模型\n",
    "rfr = RandomForestClassifier(random_state = 666) #rfr == random forest regressor\n",
    "\n",
    "#將模型導入GridSearchCV，同時考量交叉檢驗\n",
    "rfr_GridSearchCV = RandomizedSearchCV(estimator = rfr, \n",
    "                                      param_distributions = rfr_param_grid, \n",
    "                                      scoring = \"accuracy\",\n",
    "                                      cv = 10,\n",
    "                                      n_iter = 30) #隨機抽取30組參數\n",
    "\n",
    "#訓練GridSearchCV模型\n",
    "rfr_GridSearchCV.fit(x_train, y_train)\n",
    "\n",
    "#選擇GridSearchCV模型中表現最佳者做為最終採用模型\n",
    "rfr = rfr_GridSearchCV.best_estimator_\n",
    "rfr.fit(x_train, y_train)"
   ]
  },
  {
   "cell_type": "code",
   "execution_count": 29,
   "metadata": {
    "scrolled": true
   },
   "outputs": [
    {
     "name": "stdout",
     "output_type": "stream",
     "text": [
      "Accuracy_train : 99.95% \n",
      "Accuracy_test  : 68.84%\n"
     ]
    }
   ],
   "source": [
    "#訓練資料集預測出之結果\n",
    "y_predict_train = rfr.predict(x_train)\n",
    "\n",
    "#測試資料集預測出之結果\n",
    "y_predict_test = rfr.predict(x_test)\n",
    "\n",
    "train_acc = accuracy_score(y_train, y_predict_train )\n",
    "test_acc = accuracy_score(y_test, y_predict_test)\n",
    "\n",
    "print(\"Accuracy_train : %.2f%%\" % (train_acc * 100.0),\"\\n\"\n",
    "      \"Accuracy_test  : %.2f%%\" % (test_acc * 100.0))"
   ]
  },
  {
   "cell_type": "code",
   "execution_count": 30,
   "metadata": {
    "scrolled": true
   },
   "outputs": [
    {
     "data": {
      "text/plain": [
       "0.5121566370877374"
      ]
     },
     "execution_count": 30,
     "metadata": {},
     "output_type": "execute_result"
    }
   ],
   "source": [
    "scores = cross_val_score(rfr, X, Y, cv=10)\n",
    "scores.mean()"
   ]
  },
  {
   "cell_type": "code",
   "execution_count": 31,
   "metadata": {
    "scrolled": true
   },
   "outputs": [],
   "source": [
    "#confusion_matrix(confusion_matrix(y_test, y_predict_test), classes = [\"1\", \"2\"], normalize = True)"
   ]
  },
  {
   "cell_type": "markdown",
   "metadata": {},
   "source": [
    "# XGboost"
   ]
  },
  {
   "cell_type": "code",
   "execution_count": 32,
   "metadata": {},
   "outputs": [],
   "source": [
    "from xgboost import XGBClassifier"
   ]
  },
  {
   "cell_type": "code",
   "execution_count": 33,
   "metadata": {},
   "outputs": [
    {
     "data": {
      "text/plain": [
       "XGBClassifier(base_score=0.5, booster='gbtree', colsample_bylevel=1,\n",
       "       colsample_bytree=1, gamma=0, learning_rate=0.1, max_delta_step=0,\n",
       "       max_depth=3, min_child_weight=1, missing=None, n_estimators=100,\n",
       "       n_jobs=1, nthread=None, objective='binary:logistic',\n",
       "       random_state=666, reg_alpha=0, reg_lambda=1, scale_pos_weight=1,\n",
       "       seed=None, silent=True, subsample=1)"
      ]
     },
     "execution_count": 33,
     "metadata": {},
     "output_type": "execute_result"
    }
   ],
   "source": [
    "xgb_clf = XGBClassifier(random_state = 666) #rfr == random forest\n",
    "\n",
    "xgb_clf.fit(x_train, y_train)"
   ]
  },
  {
   "cell_type": "code",
   "execution_count": 34,
   "metadata": {},
   "outputs": [
    {
     "name": "stdout",
     "output_type": "stream",
     "text": [
      "Accuracy_train : 90.28% \n",
      "Accuracy_test  : 64.46%\n"
     ]
    }
   ],
   "source": [
    "#訓練資料集預測出之結果\n",
    "y_predict_train = xgb_clf.predict(x_train)\n",
    "\n",
    "#測試資料集預測出之結果\n",
    "y_predict_test = xgb_clf.predict(x_test)\n",
    "\n",
    "train_acc = accuracy_score(y_train, y_predict_train )\n",
    "test_acc = accuracy_score(y_test, y_predict_test)\n",
    "\n",
    "print(\"Accuracy_train : %.2f%%\" % (train_acc * 100.0),\"\\n\"\n",
    "      \"Accuracy_test  : %.2f%%\" % (test_acc * 100.0))"
   ]
  },
  {
   "cell_type": "code",
   "execution_count": 35,
   "metadata": {},
   "outputs": [
    {
     "data": {
      "text/plain": [
       "0.5377421346454965"
      ]
     },
     "execution_count": 35,
     "metadata": {},
     "output_type": "execute_result"
    }
   ],
   "source": [
    "scores = cross_val_score(xgb_clf, X, Y, cv=10)\n",
    "scores.mean()"
   ]
  },
  {
   "cell_type": "markdown",
   "metadata": {},
   "source": [
    "## DNN"
   ]
  },
  {
   "cell_type": "code",
   "execution_count": 21,
   "metadata": {},
   "outputs": [],
   "source": [
    "import keras\n",
    "from keras.models import Sequential\n",
    "from keras.layers import Dense\n",
    "from keras.optimizers import SGD\n",
    "from keras import utils"
   ]
  },
  {
   "cell_type": "code",
   "execution_count": 37,
   "metadata": {},
   "outputs": [],
   "source": [
    "batch_size = 100 # the number of samples that will be calculated for loss\n",
    "n_epochs = 10 # training times \n",
    "n_classes = 10 # 0,1,2,3,4,5,6,7,8,9 => 10 classes"
   ]
  },
  {
   "cell_type": "code",
   "execution_count": 38,
   "metadata": {},
   "outputs": [],
   "source": [
    "# build a sequential model\n",
    "model = Sequential()\n",
    "# the first layer has to specify the dimensions of the input vector\n",
    "# Denase stands for \"fully connected\"\n",
    "model.add(Dense(units=512, activation='relu', input_shape=(X.shape[1],)))\n",
    "# add two hidden layers\n",
    "model.add(Dense(units=256, activation='relu'))\n",
    "model.add(Dense(units=128, activation='relu'))\n",
    "# output layer can only have the neurons equal to the number of outputs\n",
    "model.add(Dense(units=2, activation='softmax'))\n",
    "\n",
    "# compile the model\n",
    "model.compile(loss='sparse_categorical_crossentropy', optimizer=SGD(lr=0.01), metrics=['accuracy'])"
   ]
  },
  {
   "cell_type": "code",
   "execution_count": 39,
   "metadata": {
    "scrolled": true
   },
   "outputs": [
    {
     "name": "stdout",
     "output_type": "stream",
     "text": [
      "_________________________________________________________________\n",
      "Layer (type)                 Output Shape              Param #   \n",
      "=================================================================\n",
      "dense_1 (Dense)              (None, 512)               236032    \n",
      "_________________________________________________________________\n",
      "dense_2 (Dense)              (None, 256)               131328    \n",
      "_________________________________________________________________\n",
      "dense_3 (Dense)              (None, 128)               32896     \n",
      "_________________________________________________________________\n",
      "dense_4 (Dense)              (None, 2)                 258       \n",
      "=================================================================\n",
      "Total params: 400,514\n",
      "Trainable params: 400,514\n",
      "Non-trainable params: 0\n",
      "_________________________________________________________________\n"
     ]
    }
   ],
   "source": [
    "model.summary()"
   ]
  },
  {
   "cell_type": "code",
   "execution_count": 40,
   "metadata": {
    "scrolled": true
   },
   "outputs": [
    {
     "name": "stdout",
     "output_type": "stream",
     "text": [
      "Train on 1117 samples, validate on 745 samples\n",
      "Epoch 1/10\n",
      "1117/1117 [==============================] - 1s 1ms/step - loss: 0.6760 - acc: 0.5882 - val_loss: 0.6741 - val_acc: 0.5933\n",
      "Epoch 2/10\n",
      "1117/1117 [==============================] - 0s 175us/step - loss: 0.6748 - acc: 0.5900 - val_loss: 0.6738 - val_acc: 0.5893\n",
      "Epoch 3/10\n",
      "1117/1117 [==============================] - 0s 165us/step - loss: 0.6747 - acc: 0.5900 - val_loss: 0.6726 - val_acc: 0.5919\n",
      "Epoch 4/10\n",
      "1117/1117 [==============================] - 0s 208us/step - loss: 0.6717 - acc: 0.5891 - val_loss: 0.6721 - val_acc: 0.5906\n",
      "Epoch 5/10\n",
      "1117/1117 [==============================] - 0s 158us/step - loss: 0.6700 - acc: 0.5900 - val_loss: 0.6750 - val_acc: 0.5946\n",
      "Epoch 6/10\n",
      "1117/1117 [==============================] - 0s 165us/step - loss: 0.6705 - acc: 0.5918 - val_loss: 0.6740 - val_acc: 0.5919\n",
      "Epoch 7/10\n",
      "1117/1117 [==============================] - 0s 133us/step - loss: 0.6698 - acc: 0.5891 - val_loss: 0.6729 - val_acc: 0.5933\n",
      "Epoch 8/10\n",
      "1117/1117 [==============================] - 0s 137us/step - loss: 0.6674 - acc: 0.5882 - val_loss: 0.6752 - val_acc: 0.5906\n",
      "Epoch 9/10\n",
      "1117/1117 [==============================] - 0s 126us/step - loss: 0.6684 - acc: 0.5918 - val_loss: 0.6735 - val_acc: 0.5919\n",
      "Epoch 10/10\n",
      "1117/1117 [==============================] - 0s 126us/step - loss: 0.6666 - acc: 0.5891 - val_loss: 0.6737 - val_acc: 0.5919\n"
     ]
    },
    {
     "data": {
      "text/plain": [
       "<keras.callbacks.History at 0x18a54ce5c0>"
      ]
     },
     "execution_count": 40,
     "metadata": {},
     "output_type": "execute_result"
    }
   ],
   "source": [
    "model.fit(x_train, y_train, batch_size=batch_size, epochs=n_epochs, validation_split=0.4)"
   ]
  },
  {
   "cell_type": "code",
   "execution_count": 41,
   "metadata": {},
   "outputs": [
    {
     "name": "stdout",
     "output_type": "stream",
     "text": [
      "799/799 [==============================] - 0s 71us/step\n",
      "\n",
      "loss: 0.6736836202899565\n",
      "accuracy: 0.5832290366683645\n"
     ]
    }
   ],
   "source": [
    "# evaluate the model and print the accuracy score\n",
    "scores = model.evaluate(x_test, y_test)\n",
    "\n",
    "print('\\nloss:', scores[0])\n",
    "print('accuracy:', scores[1])"
   ]
  },
  {
   "cell_type": "markdown",
   "metadata": {},
   "source": [
    "# LSTM\n"
   ]
  },
  {
   "cell_type": "code",
   "execution_count": 19,
   "metadata": {},
   "outputs": [
    {
     "name": "stderr",
     "output_type": "stream",
     "text": [
      "Using TensorFlow backend.\n"
     ]
    }
   ],
   "source": []
  },
  {
   "cell_type": "code",
   "execution_count": 23,
   "metadata": {
    "scrolled": true
   },
   "outputs": [
    {
     "name": "stderr",
     "output_type": "stream",
     "text": [
      "e:\\program\\anaconda\\envs\\tensorflow\\lib\\site-packages\\ipykernel_launcher.py:6: UserWarning: The `input_dim` and `input_length` arguments in recurrent layers are deprecated. Use `input_shape` instead.\n",
      "  \n",
      "e:\\program\\anaconda\\envs\\tensorflow\\lib\\site-packages\\ipykernel_launcher.py:6: UserWarning: Update your `LSTM` call to the Keras 2 API: `LSTM(input_shape=(None, 1), return_sequences=True, units=50)`\n",
      "  \n"
     ]
    },
    {
     "name": "stdout",
     "output_type": "stream",
     "text": [
      "compilation time :  0.018995285034179688\n"
     ]
    },
    {
     "name": "stderr",
     "output_type": "stream",
     "text": [
      "e:\\program\\anaconda\\envs\\tensorflow\\lib\\site-packages\\ipykernel_launcher.py:15: UserWarning: Update your `Dense` call to the Keras 2 API: `Dense(units=1)`\n",
      "  from ipykernel import kernelapp as app\n"
     ]
    }
   ],
   "source": []
  },
  {
   "cell_type": "code",
   "execution_count": 64,
   "metadata": {},
   "outputs": [],
   "source": []
  },
  {
   "cell_type": "code",
   "execution_count": 30,
   "metadata": {},
   "outputs": [
    {
     "name": "stderr",
     "output_type": "stream",
     "text": [
      "e:\\program\\anaconda\\envs\\tensorflow\\lib\\site-packages\\keras\\models.py:981: UserWarning: The `nb_epoch` argument in `fit` has been renamed `epochs`.\n",
      "  warnings.warn('The `nb_epoch` argument in `fit` '\n"
     ]
    },
    {
     "ename": "ValueError",
     "evalue": "Error when checking input: expected lstm_1_input to have shape (None, 1) but got array with shape (1, 460)",
     "output_type": "error",
     "traceback": [
      "\u001b[1;31m---------------------------------------------------------------------------\u001b[0m",
      "\u001b[1;31mValueError\u001b[0m                                Traceback (most recent call last)",
      "\u001b[1;32m<ipython-input-30-174e1a46f6af>\u001b[0m in \u001b[0;36m<module>\u001b[1;34m()\u001b[0m\n\u001b[0;32m      4\u001b[0m     \u001b[0mbatch_size\u001b[0m\u001b[1;33m=\u001b[0m\u001b[1;36m128\u001b[0m\u001b[1;33m,\u001b[0m\u001b[1;33m\u001b[0m\u001b[0m\n\u001b[0;32m      5\u001b[0m     \u001b[0mnb_epoch\u001b[0m\u001b[1;33m=\u001b[0m\u001b[1;36m10\u001b[0m\u001b[1;33m,\u001b[0m\u001b[1;33m\u001b[0m\u001b[0m\n\u001b[1;32m----> 6\u001b[1;33m     validation_split=0.05)\n\u001b[0m",
      "\u001b[1;32me:\\program\\anaconda\\envs\\tensorflow\\lib\\site-packages\\keras\\models.py\u001b[0m in \u001b[0;36mfit\u001b[1;34m(self, x, y, batch_size, epochs, verbose, callbacks, validation_split, validation_data, shuffle, class_weight, sample_weight, initial_epoch, steps_per_epoch, validation_steps, **kwargs)\u001b[0m\n\u001b[0;32m   1000\u001b[0m                               \u001b[0minitial_epoch\u001b[0m\u001b[1;33m=\u001b[0m\u001b[0minitial_epoch\u001b[0m\u001b[1;33m,\u001b[0m\u001b[1;33m\u001b[0m\u001b[0m\n\u001b[0;32m   1001\u001b[0m                               \u001b[0msteps_per_epoch\u001b[0m\u001b[1;33m=\u001b[0m\u001b[0msteps_per_epoch\u001b[0m\u001b[1;33m,\u001b[0m\u001b[1;33m\u001b[0m\u001b[0m\n\u001b[1;32m-> 1002\u001b[1;33m                               validation_steps=validation_steps)\n\u001b[0m\u001b[0;32m   1003\u001b[0m \u001b[1;33m\u001b[0m\u001b[0m\n\u001b[0;32m   1004\u001b[0m     def evaluate(self, x=None, y=None,\n",
      "\u001b[1;32me:\\program\\anaconda\\envs\\tensorflow\\lib\\site-packages\\keras\\engine\\training.py\u001b[0m in \u001b[0;36mfit\u001b[1;34m(self, x, y, batch_size, epochs, verbose, callbacks, validation_split, validation_data, shuffle, class_weight, sample_weight, initial_epoch, steps_per_epoch, validation_steps, **kwargs)\u001b[0m\n\u001b[0;32m   1628\u001b[0m             \u001b[0msample_weight\u001b[0m\u001b[1;33m=\u001b[0m\u001b[0msample_weight\u001b[0m\u001b[1;33m,\u001b[0m\u001b[1;33m\u001b[0m\u001b[0m\n\u001b[0;32m   1629\u001b[0m             \u001b[0mclass_weight\u001b[0m\u001b[1;33m=\u001b[0m\u001b[0mclass_weight\u001b[0m\u001b[1;33m,\u001b[0m\u001b[1;33m\u001b[0m\u001b[0m\n\u001b[1;32m-> 1630\u001b[1;33m             batch_size=batch_size)\n\u001b[0m\u001b[0;32m   1631\u001b[0m         \u001b[1;31m# Prepare validation data.\u001b[0m\u001b[1;33m\u001b[0m\u001b[1;33m\u001b[0m\u001b[0m\n\u001b[0;32m   1632\u001b[0m         \u001b[0mdo_validation\u001b[0m \u001b[1;33m=\u001b[0m \u001b[1;32mFalse\u001b[0m\u001b[1;33m\u001b[0m\u001b[0m\n",
      "\u001b[1;32me:\\program\\anaconda\\envs\\tensorflow\\lib\\site-packages\\keras\\engine\\training.py\u001b[0m in \u001b[0;36m_standardize_user_data\u001b[1;34m(self, x, y, sample_weight, class_weight, check_array_lengths, batch_size)\u001b[0m\n\u001b[0;32m   1474\u001b[0m                                     \u001b[0mself\u001b[0m\u001b[1;33m.\u001b[0m\u001b[0m_feed_input_shapes\u001b[0m\u001b[1;33m,\u001b[0m\u001b[1;33m\u001b[0m\u001b[0m\n\u001b[0;32m   1475\u001b[0m                                     \u001b[0mcheck_batch_axis\u001b[0m\u001b[1;33m=\u001b[0m\u001b[1;32mFalse\u001b[0m\u001b[1;33m,\u001b[0m\u001b[1;33m\u001b[0m\u001b[0m\n\u001b[1;32m-> 1476\u001b[1;33m                                     exception_prefix='input')\n\u001b[0m\u001b[0;32m   1477\u001b[0m         y = _standardize_input_data(y, self._feed_output_names,\n\u001b[0;32m   1478\u001b[0m                                     \u001b[0moutput_shapes\u001b[0m\u001b[1;33m,\u001b[0m\u001b[1;33m\u001b[0m\u001b[0m\n",
      "\u001b[1;32me:\\program\\anaconda\\envs\\tensorflow\\lib\\site-packages\\keras\\engine\\training.py\u001b[0m in \u001b[0;36m_standardize_input_data\u001b[1;34m(data, names, shapes, check_batch_axis, exception_prefix)\u001b[0m\n\u001b[0;32m    121\u001b[0m                             \u001b[1;34m': expected '\u001b[0m \u001b[1;33m+\u001b[0m \u001b[0mnames\u001b[0m\u001b[1;33m[\u001b[0m\u001b[0mi\u001b[0m\u001b[1;33m]\u001b[0m \u001b[1;33m+\u001b[0m \u001b[1;34m' to have shape '\u001b[0m \u001b[1;33m+\u001b[0m\u001b[1;33m\u001b[0m\u001b[0m\n\u001b[0;32m    122\u001b[0m                             \u001b[0mstr\u001b[0m\u001b[1;33m(\u001b[0m\u001b[0mshape\u001b[0m\u001b[1;33m)\u001b[0m \u001b[1;33m+\u001b[0m \u001b[1;34m' but got array with shape '\u001b[0m \u001b[1;33m+\u001b[0m\u001b[1;33m\u001b[0m\u001b[0m\n\u001b[1;32m--> 123\u001b[1;33m                             str(data_shape))\n\u001b[0m\u001b[0;32m    124\u001b[0m     \u001b[1;32mreturn\u001b[0m \u001b[0mdata\u001b[0m\u001b[1;33m\u001b[0m\u001b[0m\n\u001b[0;32m    125\u001b[0m \u001b[1;33m\u001b[0m\u001b[0m\n",
      "\u001b[1;31mValueError\u001b[0m: Error when checking input: expected lstm_1_input to have shape (None, 1) but got array with shape (1, 460)"
     ]
    }
   ],
   "source": []
  },
  {
   "cell_type": "code",
   "execution_count": null,
   "metadata": {},
   "outputs": [],
   "source": []
  }
 ],
 "metadata": {
  "kernelspec": {
   "display_name": "Python 3",
   "language": "python",
   "name": "python3"
  },
  "language_info": {
   "codemirror_mode": {
    "name": "ipython",
    "version": 3
   },
   "file_extension": ".py",
   "mimetype": "text/x-python",
   "name": "python",
   "nbconvert_exporter": "python",
   "pygments_lexer": "ipython3",
   "version": "3.5.5"
  }
 },
 "nbformat": 4,
 "nbformat_minor": 2
}
